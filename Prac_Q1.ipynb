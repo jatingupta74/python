{
  "nbformat": 4,
  "nbformat_minor": 0,
  "metadata": {
    "colab": {
      "provenance": [],
      "authorship_tag": "ABX9TyP+9BMYq13nKuguHjpOTMI7",
      "include_colab_link": true
    },
    "kernelspec": {
      "name": "python3",
      "display_name": "Python 3"
    },
    "language_info": {
      "name": "python"
    }
  },
  "cells": [
    {
      "cell_type": "markdown",
      "metadata": {
        "id": "view-in-github",
        "colab_type": "text"
      },
      "source": [
        "<a href=\"https://colab.research.google.com/github/jatingupta74/python/blob/main/Prac_Q1.ipynb\" target=\"_parent\"><img src=\"https://colab.research.google.com/assets/colab-badge.svg\" alt=\"Open In Colab\"/></a>"
      ]
    },
    {
      "cell_type": "code",
      "execution_count": 9,
      "metadata": {
        "colab": {
          "base_uri": "https://localhost:8080/"
        },
        "id": "SLkFmgqIZxIN",
        "outputId": "f0751d29-2b3c-4adc-9f8e-b1c65cd59d0d"
      },
      "outputs": [
        {
          "output_type": "stream",
          "name": "stdout",
          "text": [
            "arr1:\n",
            "[[0.35169463 0.04258505 0.2149385  0.19506181 0.23549081 0.73417715\n",
            "  0.22298429 0.66784679]\n",
            " [0.85422569 0.84833689 0.08429102 0.76965671 0.32714313 0.62645689\n",
            "  0.42425535 0.72646065]\n",
            " [0.91667876 0.36830988 0.92968622 0.45887681 0.03365306 0.51183899\n",
            "  0.36144627 0.50322747]\n",
            " [0.18112213 0.3971462  0.4843329  0.33140489 0.83376609 0.61194147\n",
            "  0.11230838 0.78522984]\n",
            " [0.00175166 0.47377848 0.26819588 0.72454015 0.66336137 0.8680273\n",
            "  0.08596652 0.1509147 ]\n",
            " [0.50287054 0.2467568  0.190781   0.28289091 0.58611089 0.88055928\n",
            "  0.58988151 0.18236558]\n",
            " [0.30294533 0.705913   0.72368771 0.39400161 0.56221471 0.20709662\n",
            "  0.68218924 0.77131436]]\n",
            "Mean along second axis: [0.33309738 0.58260329 0.51046468 0.46715649 0.40456701 0.43277707\n",
            " 0.54367032]\n",
            "Standard Deviation along second axis: [0.22702772 0.25996375 0.27686548 0.24695489 0.30324208 0.23236622\n",
            " 0.20115704]\n",
            "Variance along second axis: [0.05154159 0.06758115 0.07665449 0.06098672 0.09195576 0.05399406\n",
            " 0.04046415]\n"
          ]
        }
      ],
      "source": [
        "import numpy as np\n",
        "\n",
        "# a. Two-dimensional array\n",
        "arr1 = np.random.rand(7, 8)\n",
        "\n",
        "mean_arr1 = np.mean(arr1, axis=1) # Mean\n",
        "std_arr1 = np.std(arr1, axis=1) # Std Dev\n",
        "var_arr1 = np.var(arr1, axis=1) # Variance\n",
        "\n",
        "print(\"arr1:\")\n",
        "print(arr1)\n",
        "print(\"Mean along second axis:\", mean_arr1)\n",
        "print(\"Standard Deviation along second axis:\", std_arr1)\n",
        "print(\"Variance along second axis:\", var_arr1)\n",
        "\n",
        "\n"
      ]
    },
    {
      "cell_type": "code",
      "source": [
        "# b. Create a 2-dimensional array of size m x n, print shape, type, and data type, and reshape\n",
        "\n",
        "#Taking Input\n",
        "m = int(input(\"Enter the number of rows (m): \"))\n",
        "n = int(input(\"Enter the number of columns (n): \"))\n",
        "\n",
        "#Two-dimentional Array\n",
        "arr2 = np.random.randint(0, 20, size=(m, n))\n",
        "\n",
        "print(\"arr2:\")\n",
        "print(arr2)\n",
        "\n",
        "#Shape\n",
        "print(\"Shape:\", arr2.shape)\n",
        "\n",
        "#Type\n",
        "print(\"Type:\", type(arr2))\n",
        "\n",
        "#Datatype\n",
        "print(\"Data Type:\", arr2.dtype)\n",
        "\n",
        "#Reashaped\n",
        "arr2_reshaped = arr2.reshape(n, m)\n",
        "print(\"arr2 Reshaped:\")\n",
        "print(arr2_reshaped)\n"
      ],
      "metadata": {
        "colab": {
          "base_uri": "https://localhost:8080/"
        },
        "id": "qGm_DhtFcqSm",
        "outputId": "ea7770ed-e75a-4da9-ba50-58b0b7cc0de7"
      },
      "execution_count": 10,
      "outputs": [
        {
          "output_type": "stream",
          "name": "stdout",
          "text": [
            "Enter the number of rows (m): 8\n",
            "Enter the number of columns (n): 9\n",
            "arr2:\n",
            "[[11  5  0  0  8 19 13  5 17]\n",
            " [ 7 17  1  6 17  1  0 18 17]\n",
            " [ 6  4  9  7  1  8 11  0 10]\n",
            " [12 11  4 19 10  8 13  2  7]\n",
            " [ 3  2 10  7 17 18  9  1  6]\n",
            " [ 4  5 11 13 12  1  7  4 13]\n",
            " [ 9  5 10 14 13 14  6 11 15]\n",
            " [ 9 18  1 10  1 12  2  0  1]]\n",
            "Shape: (8, 9)\n",
            "Type: <class 'numpy.ndarray'>\n",
            "Data Type: int64\n",
            "arr2 Reshaped:\n",
            "[[11  5  0  0  8 19 13  5]\n",
            " [17  7 17  1  6 17  1  0]\n",
            " [18 17  6  4  9  7  1  8]\n",
            " [11  0 10 12 11  4 19 10]\n",
            " [ 8 13  2  7  3  2 10  7]\n",
            " [17 18  9  1  6  4  5 11]\n",
            " [13 12  1  7  4 13  9  5]\n",
            " [10 14 13 14  6 11 15  9]\n",
            " [18  1 10  1 12  2  0  1]]\n"
          ]
        }
      ]
    },
    {
      "cell_type": "code",
      "source": [
        "# c. Test whether elements of a given 1D array are zero, non-zero, and NaN. Record indices.\n",
        "arr3 = np.array([1.0, 0.0, 3.0, np.nan, 5.0, 0.0])\n",
        "zero_indices = np.where(arr3 == 0)[0]\n",
        "nonzero_indices = np.where(arr3 != 0)[0]\n",
        "nan_indices = np.where(np.isnan(arr3))[0]\n",
        "\n",
        "print(\"arr3:\", arr3)\n",
        "print(\"Zero indices:\", zero_indices)\n",
        "print(\"Non-zero indices:\", nonzero_indices)\n",
        "print(\"NaN indices:\", nan_indices)\n",
        "print(\"\\n\")"
      ],
      "metadata": {
        "colab": {
          "base_uri": "https://localhost:8080/"
        },
        "id": "YbdDIzJYd24g",
        "outputId": "b029b941-6f70-4f07-cb81-117fbd351ed1"
      },
      "execution_count": 11,
      "outputs": [
        {
          "output_type": "stream",
          "name": "stdout",
          "text": [
            "arr3: [ 1.  0.  3. nan  5.  0.]\n",
            "Zero indices: [1 5]\n",
            "Non-zero indices: [0 2 3 4]\n",
            "NaN indices: [3]\n",
            "\n",
            "\n"
          ]
        }
      ]
    },
    {
      "cell_type": "code",
      "source": [
        "# d. Create three random arrays, perform operations, find covariance and correlation\n",
        "Array1 = np.random.rand(6)\n",
        "Array2 = np.random.rand(6)\n",
        "Array3 = np.random.rand(6)\n",
        "\n",
        "Array4 = Array3 - Array2\n",
        "Array5 = 2 * Array1\n",
        "\n",
        "covariance = np.cov(Array1, Array4)[0, 1]\n",
        "correlation = np.corrcoef(Array1, Array5)[0, 1]\n",
        "\n",
        "print(\"Array1:\", Array1)\n",
        "print(\"Array2:\", Array2)\n",
        "print(\"Array3:\", Array3)\n",
        "print(\"Array4 (Array3 - Array2):\", Array4)\n",
        "print(\"Array5 (2 * Array1):\", Array5)\n",
        "print(\"Covariance of Array1 and Array4:\", covariance)\n",
        "print(\"Correlation of Array1 and Array5:\", correlation)\n"
      ],
      "metadata": {
        "colab": {
          "base_uri": "https://localhost:8080/"
        },
        "id": "piLNI27meiSx",
        "outputId": "d1b70fd9-86d7-4427-fd0f-9bab7d90fe11"
      },
      "execution_count": 12,
      "outputs": [
        {
          "output_type": "stream",
          "name": "stdout",
          "text": [
            "Array1: [0.60110262 0.601831   0.99576369 0.73306136 0.90229341 0.18951044]\n",
            "Array2: [0.39835181 0.18116966 0.61340984 0.79521602 0.64851095 0.41684485]\n",
            "Array3: [0.91618579 0.57184066 0.05932659 0.98635166 0.42969873 0.08524108]\n",
            "Array4 (Array3 - Array2): [ 0.51783398  0.390671   -0.55408325  0.19113564 -0.21881221 -0.33160378]\n",
            "Array5 (2 * Array1): [1.20220524 1.20366199 1.99152737 1.46612272 1.80458682 0.37902088]\n",
            "Covariance of Array1 and Array4: -0.02444991694915765\n",
            "Correlation of Array1 and Array5: 1.0\n"
          ]
        }
      ]
    },
    {
      "cell_type": "code",
      "source": [
        "# e. Create two random arrays, find sum of first half and product of second half\n",
        "Array6 = np.random.rand(10)\n",
        "Array7 = np.random.rand(10)\n",
        "\n",
        "sum_first_half = np.sum(Array6[:5]) + np.sum(Array7[:5])\n",
        "product_second_half = np.prod(Array6[5:]) * np.prod(Array7[5:])\n",
        "\n",
        "print(\"Array6:\", Array6)\n",
        "print(\"Array7:\", Array7)\n",
        "print(\"Sum of first half:\", sum_first_half)\n",
        "print(\"Product of second half:\", product_second_half)\n",
        "\n",
        "\n"
      ],
      "metadata": {
        "colab": {
          "base_uri": "https://localhost:8080/"
        },
        "id": "qNPLr5M_eifP",
        "outputId": "0b72c9e9-1a42-4c7e-83b9-1db304b8e574"
      },
      "execution_count": 13,
      "outputs": [
        {
          "output_type": "stream",
          "name": "stdout",
          "text": [
            "Array6: [0.18752204 0.44778563 0.46147789 0.28526134 0.0996272  0.22051482\n",
            " 0.89568157 0.91009942 0.17666677 0.04319338]\n",
            "Array7: [0.0675007  0.45987847 0.87308407 0.93931165 0.68519689 0.72305084\n",
            " 0.45912157 0.67957977 0.00348359 0.52925079]\n",
            "Sum of first half: 4.506645878034314\n",
            "Product of second half: 5.705293952456433e-07\n"
          ]
        }
      ]
    },
    {
      "cell_type": "code",
      "source": [
        "# f. Create an array with random values, determine the size of the memory occupied\n",
        "Array8 = np.random.rand(4, 5)\n",
        "memory_size = Array8.nbytes\n",
        "\n",
        "print(\"Array8:\")\n",
        "print(Array8)\n",
        "print(\"Memory occupied by Array8:\", memory_size, \"bytes\")\n",
        "print(\"\\n\")"
      ],
      "metadata": {
        "colab": {
          "base_uri": "https://localhost:8080/"
        },
        "id": "ARq2SzgXeivf",
        "outputId": "613a455a-abc9-4932-c7a2-4b6008fa2b31"
      },
      "execution_count": 14,
      "outputs": [
        {
          "output_type": "stream",
          "name": "stdout",
          "text": [
            "Array8:\n",
            "[[0.89965388 0.0437188  0.58996623 0.99183496 0.43982644]\n",
            " [0.75573461 0.11136796 0.06874838 0.8604198  0.51690712]\n",
            " [0.46481194 0.14144261 0.48589228 0.48316188 0.85874636]\n",
            " [0.77076354 0.94611116 0.97464347 0.31733081 0.23122835]]\n",
            "Memory occupied by Array8: 160 bytes\n",
            "\n",
            "\n"
          ]
        }
      ]
    },
    {
      "cell_type": "code",
      "source": [
        "# g. Create a 2-dimensional array of size m x n with integer elements in the range (10,100)\n",
        "m_g = 4\n",
        "n_g = 3\n",
        "ARR_g = np.random.randint(10, 100, size=(m_g, n_g))\n",
        "print(\"Original ARR_g:\")\n",
        "print(ARR_g)\n",
        "\n",
        "# Swap two rows (e.g., swap row 1 and row 2)\n",
        "ARR_g_swapped_rows = ARR_g.copy()\n",
        "ARR_g_swapped_rows[1], ARR_g_swapped_rows[2] = ARR_g_swapped_rows[2].copy(), ARR_g_swapped_rows[1].copy()\n",
        "print(\"ARR_g after swapping rows:\")\n",
        "print(ARR_g_swapped_rows)\n",
        "\n",
        "# Reverse a specified column (e.g., reverse column 1)\n",
        "ARR_g_reversed_column = ARR_g.copy()\n",
        "ARR_g_reversed_column[:, 0] = np.flipud(ARR_g_reversed_column[:, 0])\n",
        "print(\"ARR_g after reversing column:\")\n",
        "print(ARR_g_reversed_column)\n"
      ],
      "metadata": {
        "colab": {
          "base_uri": "https://localhost:8080/"
        },
        "id": "vj6vm7ASempr",
        "outputId": "ad45e095-f95d-4714-b511-e68d9e408cd1"
      },
      "execution_count": 15,
      "outputs": [
        {
          "output_type": "stream",
          "name": "stdout",
          "text": [
            "Original ARR_g:\n",
            "[[71 50 76]\n",
            " [45 80 66]\n",
            " [64 23 84]\n",
            " [48 33 56]]\n",
            "ARR_g after swapping rows:\n",
            "[[71 50 76]\n",
            " [64 23 84]\n",
            " [45 80 66]\n",
            " [48 33 56]]\n",
            "ARR_g after reversing column:\n",
            "[[48 50 76]\n",
            " [64 80 66]\n",
            " [45 23 84]\n",
            " [71 33 56]]\n"
          ]
        }
      ]
    }
  ]
}