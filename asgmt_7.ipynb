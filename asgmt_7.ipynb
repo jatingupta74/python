{
  "nbformat": 4,
  "nbformat_minor": 0,
  "metadata": {
    "colab": {
      "provenance": [],
      "authorship_tag": "ABX9TyNNnifYztAI2sJLAEp3plzj",
      "include_colab_link": true
    },
    "kernelspec": {
      "name": "python3",
      "display_name": "Python 3"
    },
    "language_info": {
      "name": "python"
    }
  },
  "cells": [
    {
      "cell_type": "markdown",
      "metadata": {
        "id": "view-in-github",
        "colab_type": "text"
      },
      "source": [
        "<a href=\"https://colab.research.google.com/github/jatingupta74/python/blob/main/asgmt_7.ipynb\" target=\"_parent\"><img src=\"https://colab.research.google.com/assets/colab-badge.svg\" alt=\"Open In Colab\"/></a>"
      ]
    },
    {
      "cell_type": "code",
      "source": [
        "import pandas as pd\n",
        "\n",
        "data = {\n",
        "    'FamilyName': ['Shah', 'Vats', 'Vats', 'Kumar', 'Vats', 'Kumar', 'Shah', 'Shah', 'Kumar', 'Vats'],\n",
        "    'Gender': ['Male', 'Male', 'Female', 'Female', 'Female', 'Male', 'Male', 'Female', 'Female', 'Male'],\n",
        "    'MonthlyIncome': [44000.00, 65000.00, 43150.00, 66500.00, 255000.00, 103000.00, 55000.00, 112400.00, 81030.00, 71900.00]\n",
        "}\n",
        "\n",
        "df = pd.DataFrame(data)\n",
        "\n",
        "familywise_gross_income = df.groupby('FamilyName')['MonthlyIncome'].sum()\n",
        "print(\"a. Familywise Gross Monthly Income:\")\n",
        "print(familywise_gross_income)\n",
        "print()\n",
        "\n",
        "highest_income = df.groupby('FamilyName')['MonthlyIncome'].max()\n",
        "lowest_income = df.groupby('FamilyName')['MonthlyIncome'].min()\n",
        "print(\"b. Highest Monthly Income:\")\n",
        "print(highest_income)\n",
        "print(\"\\nLowest Monthly Income:\")\n",
        "print(lowest_income)\n",
        "print()\n",
        "\n",
        "income_below_80000 = df[df['MonthlyIncome'] < 80000.00]\n",
        "print(\"c. Monthly Income of Members Earning Less than Rs. 80000.00:\")\n",
        "print(income_below_80000[['FamilyName', 'MonthlyIncome']])\n",
        "print()\n",
        "\n",
        "female_data = df[df['Gender'] == 'Female']\n",
        "total_females = female_data.shape[0]\n",
        "average_income_female = female_data['MonthlyIncome'].mean()\n",
        "print(\"d. Total Number of Females: \", total_females)\n",
        "print(\"Average Monthly Income of Females: \", average_income_female)\n",
        "print()\n",
        "\n",
        "average_income_all = df['MonthlyIncome'].mean()\n",
        "df = df[df['MonthlyIncome'] >= average_income_all]\n",
        "print(\"e. DataFrame after deleting rows with Monthly income less than the average income:\")\n",
        "print(df)\n"
      ],
      "metadata": {
        "colab": {
          "base_uri": "https://localhost:8080/"
        },
        "id": "k4mKh_pfw1Kz",
        "outputId": "c9d0d842-ba18-46e2-d72a-7ddf4a66914a"
      },
      "execution_count": 5,
      "outputs": [
        {
          "output_type": "stream",
          "name": "stdout",
          "text": [
            "a. Familywise Gross Monthly Income:\n",
            "FamilyName\n",
            "Kumar    250530.0\n",
            "Shah     211400.0\n",
            "Vats     435050.0\n",
            "Name: MonthlyIncome, dtype: float64\n",
            "\n",
            "b. Highest Monthly Income:\n",
            "FamilyName\n",
            "Kumar    103000.0\n",
            "Shah     112400.0\n",
            "Vats     255000.0\n",
            "Name: MonthlyIncome, dtype: float64\n",
            "\n",
            "Lowest Monthly Income:\n",
            "FamilyName\n",
            "Kumar    66500.0\n",
            "Shah     44000.0\n",
            "Vats     43150.0\n",
            "Name: MonthlyIncome, dtype: float64\n",
            "\n",
            "c. Monthly Income of Members Earning Less than Rs. 80000.00:\n",
            "  FamilyName  MonthlyIncome\n",
            "0       Shah        44000.0\n",
            "1       Vats        65000.0\n",
            "2       Vats        43150.0\n",
            "3      Kumar        66500.0\n",
            "6       Shah        55000.0\n",
            "9       Vats        71900.0\n",
            "\n",
            "d. Total Number of Females:  5\n",
            "Average Monthly Income of Females:  111616.0\n",
            "\n",
            "e. DataFrame after deleting rows with Monthly income less than the average income:\n",
            "  FamilyName  Gender  MonthlyIncome\n",
            "4       Vats  Female       255000.0\n",
            "5      Kumar    Male       103000.0\n",
            "7       Shah  Female       112400.0\n"
          ]
        }
      ]
    }
  ]
}