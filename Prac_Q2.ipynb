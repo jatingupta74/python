{
  "nbformat": 4,
  "nbformat_minor": 0,
  "metadata": {
    "colab": {
      "provenance": [],
      "authorship_tag": "ABX9TyMmhR5QaelVWCGoZqwH2Pw+",
      "include_colab_link": true
    },
    "kernelspec": {
      "name": "python3",
      "display_name": "Python 3"
    },
    "language_info": {
      "name": "python"
    }
  },
  "cells": [
    {
      "cell_type": "markdown",
      "metadata": {
        "id": "view-in-github",
        "colab_type": "text"
      },
      "source": [
        "<a href=\"https://colab.research.google.com/github/jatingupta74/python/blob/main/Prac_Q2.ipynb\" target=\"_parent\"><img src=\"https://colab.research.google.com/assets/colab-badge.svg\" alt=\"Open In Colab\"/></a>"
      ]
    },
    {
      "cell_type": "code",
      "execution_count": 5,
      "metadata": {
        "colab": {
          "base_uri": "https://localhost:8080/"
        },
        "id": "Caj-BFJWhR4h",
        "outputId": "bd4becb3-bc1e-4024-bb08-074e1d60d90e"
      },
      "outputs": [
        {
          "output_type": "stream",
          "name": "stdout",
          "text": [
            "C    3\n",
            "B    2\n",
            "D    4\n",
            "E    5\n",
            "A    1\n",
            "dtype: int64\n",
            "Soryed Series on index :  \n",
            "  A    1\n",
            "B    2\n",
            "C    3\n",
            "D    4\n",
            "E    5\n",
            "dtype: int64\n",
            "Sorted Series on values :  \n",
            " A    1\n",
            "B    2\n",
            "C    3\n",
            "D    4\n",
            "E    5\n",
            "dtype: int64\n"
          ]
        }
      ],
      "source": [
        "#a. Create a series with 5 elements. Display the series sorted on index and also sorted on values seperately\n",
        "\n",
        "import pandas as pd\n",
        "\n",
        "data = {'C':3, 'B':2, 'D':4, 'E':5, 'A':1}\n",
        "series  = pd.Series(data)\n",
        "\n",
        "sorted_series_index = series.sort_index()\n",
        "sorted_series_values = series.sort_values()\n",
        "\n",
        "print(series)\n",
        "print(\"Soryed Series on index :  \\n \",sorted_series_index)\n",
        "print(\"Sorted Series on values :  \\n\",sorted_series_values)\n"
      ]
    },
    {
      "cell_type": "code",
      "source": [
        "# b. Create a series with N elements with some duplicate values. Find the minimum and maximum ranks assigned to the values using ‘first’ and ‘max’ methods\n",
        "\n",
        "import pandas as pd\n",
        "\n",
        "data = {'C':3, 'B':2, 'D':4, 'E':5, 'A':1}\n",
        "series  = pd.Series(data)\n",
        "\n",
        "min_ranks = series.rank(method = 'first')\n",
        "max_ranks = series.rank(method = 'max')\n",
        "\n",
        "print(min_ranks)\n",
        "print(max_ranks)\n"
      ],
      "metadata": {
        "colab": {
          "base_uri": "https://localhost:8080/"
        },
        "id": "1FYXAs92iiUi",
        "outputId": "4003b923-7e44-4152-c38b-9e39c422c395"
      },
      "execution_count": 12,
      "outputs": [
        {
          "output_type": "stream",
          "name": "stdout",
          "text": [
            "C    3.0\n",
            "B    2.0\n",
            "D    4.0\n",
            "E    5.0\n",
            "A    1.0\n",
            "dtype: float64\n",
            "C    3.0\n",
            "B    2.0\n",
            "D    4.0\n",
            "E    5.0\n",
            "A    1.0\n",
            "dtype: float64\n"
          ]
        }
      ]
    },
    {
      "cell_type": "code",
      "source": [
        "# c. Display the index value of the minimum and maximum element of a Series\n",
        "\n",
        "import pandas as pd\n",
        "\n",
        "data = {'C':3, 'B':2, 'D':4, 'E':5, 'A':1}\n",
        "series  = pd.Series(data)\n",
        "\n",
        "min_index_value = series.idxmin()\n",
        "max_index_value = series.idxmax()\n",
        "\n",
        "print(min_index_value)\n",
        "print(max_index_value)"
      ],
      "metadata": {
        "colab": {
          "base_uri": "https://localhost:8080/"
        },
        "id": "xTYiFA-4iiX2",
        "outputId": "8c832abc-c851-48ff-90e9-4587d73bed5a"
      },
      "execution_count": 11,
      "outputs": [
        {
          "output_type": "stream",
          "name": "stdout",
          "text": [
            "A\n",
            "E\n"
          ]
        }
      ]
    }
  ]
}